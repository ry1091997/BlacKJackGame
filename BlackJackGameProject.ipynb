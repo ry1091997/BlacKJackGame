{
 "cells": [
  {
   "cell_type": "code",
   "execution_count": 1,
   "metadata": {},
   "outputs": [],
   "source": [
    "import random\n",
    "from IPython.display import clear_output"
   ]
  },
  {
   "cell_type": "code",
   "execution_count": 2,
   "metadata": {},
   "outputs": [],
   "source": [
    "suits = ('Hearts', 'Diamonds', 'Spades', 'Clubs')\n",
    "ranks = ('Two', 'Three', 'Four', 'Five', 'Six', 'Seven', 'Eight', 'Nine', 'Ten', 'Jack', 'Queen', 'King', 'Ace')\n",
    "values = {'Two':2, 'Three':3, 'Four':4, 'Five':5, 'Six':6, 'Seven':7, 'Eight':8, \n",
    "            'Nine':9, 'Ten':10, 'Jack':10, 'Queen':10, 'King':10, 'Ace':[1,11]}\n",
    "faceCards = {'Jack':10, 'Queen':10, 'King':10, 'Ace':[1,11]}"
   ]
  },
  {
   "cell_type": "code",
   "execution_count": 3,
   "metadata": {},
   "outputs": [
    {
     "data": {
      "text/plain": [
       "10"
      ]
     },
     "execution_count": 3,
     "metadata": {},
     "output_type": "execute_result"
    }
   ],
   "source": [
    "values['Jack']"
   ]
  },
  {
   "cell_type": "code",
   "execution_count": 4,
   "metadata": {},
   "outputs": [],
   "source": [
    "class  Card:\n",
    "    \n",
    "    def __init__(self,suit,rank):\n",
    "        \n",
    "        self.suit = suit\n",
    "        self.rank = rank\n",
    "        self.value = values[rank]\n",
    "        \n",
    "    def __str__(self):\n",
    "        \n",
    "        return f\"{self.rank} of {self.suit}\"\n",
    "    \n"
   ]
  },
  {
   "cell_type": "code",
   "execution_count": 5,
   "metadata": {},
   "outputs": [],
   "source": [
    "card = Card(suits[0],ranks[12])"
   ]
  },
  {
   "cell_type": "code",
   "execution_count": 6,
   "metadata": {},
   "outputs": [
    {
     "name": "stdout",
     "output_type": "stream",
     "text": [
      "Ace of Hearts\n"
     ]
    }
   ],
   "source": [
    "print(card)"
   ]
  },
  {
   "cell_type": "code",
   "execution_count": 7,
   "metadata": {},
   "outputs": [],
   "source": [
    "class Deck:\n",
    "    \n",
    "    def __init__(self):\n",
    "        \n",
    "        self.all_cards = []\n",
    "        for suit in suits:\n",
    "            for rank in ranks:\n",
    "                self.all_cards.append(Card(suit, rank))\n",
    "        \n",
    "    def shuffle(self):\n",
    "        random.shuffle(self.all_cards)\n",
    "    \n",
    "    def remove_one(self):\n",
    "        return self.all_cards.pop()\n",
    "        "
   ]
  },
  {
   "cell_type": "code",
   "execution_count": 8,
   "metadata": {},
   "outputs": [],
   "source": [
    "deck = Deck()"
   ]
  },
  {
   "cell_type": "code",
   "execution_count": 9,
   "metadata": {},
   "outputs": [
    {
     "data": {
      "text/plain": [
       "52"
      ]
     },
     "execution_count": 9,
     "metadata": {},
     "output_type": "execute_result"
    }
   ],
   "source": [
    "len(deck.all_cards)"
   ]
  },
  {
   "cell_type": "code",
   "execution_count": 10,
   "metadata": {},
   "outputs": [],
   "source": [
    "# print(deck.hit())"
   ]
  },
  {
   "cell_type": "code",
   "execution_count": 11,
   "metadata": {},
   "outputs": [
    {
     "data": {
      "text/plain": [
       "52"
      ]
     },
     "execution_count": 11,
     "metadata": {},
     "output_type": "execute_result"
    }
   ],
   "source": [
    "len(deck.all_cards)"
   ]
  },
  {
   "cell_type": "code",
   "execution_count": 12,
   "metadata": {},
   "outputs": [
    {
     "name": "stdout",
     "output_type": "stream",
     "text": [
      "Two of Hearts\n"
     ]
    }
   ],
   "source": [
    "print(deck.all_cards[0])"
   ]
  },
  {
   "cell_type": "code",
   "execution_count": 13,
   "metadata": {},
   "outputs": [],
   "source": [
    "deck.shuffle()"
   ]
  },
  {
   "cell_type": "code",
   "execution_count": 14,
   "metadata": {},
   "outputs": [
    {
     "name": "stdout",
     "output_type": "stream",
     "text": [
      "Two of Spades\n"
     ]
    }
   ],
   "source": [
    "print(deck.all_cards[0])"
   ]
  },
  {
   "cell_type": "code",
   "execution_count": null,
   "metadata": {},
   "outputs": [],
   "source": []
  },
  {
   "cell_type": "code",
   "execution_count": 15,
   "metadata": {},
   "outputs": [],
   "source": [
    "class Player:\n",
    "    \n",
    "    def __init__(self,name, money=0):\n",
    "        self.name = name\n",
    "        self.balance = money\n",
    "        self.all_cards = []\n",
    "\n",
    "    def applyingMoney(self,money=0):\n",
    "        self.money = money\n",
    "        if self.balance>=self.money:\n",
    "            return True\n",
    "        else:\n",
    "            return False\n",
    "    \n",
    "    \n",
    "    def winMoney(self,betmoney):\n",
    "        self.betmoney = betmoney        \n",
    "        self.balance+=self.betmoney         \n",
    "        return self.balance\n",
    "    \n",
    "    def lostMoney(self, lostmoney):\n",
    "        self.lostmoney = lostmoney        \n",
    "        self.balance-=self.lostmoney\n",
    "        return self.lostmoney\n",
    "\n",
    "    def addCards(self,new_cards):\n",
    "        if type(new_cards) == type([]):\n",
    "            self.all_cards.extend(new_cards)\n",
    "        \n",
    "        else:\n",
    "            self.all_cards.append(new_cards)\n",
    "            \n",
    "    def __str__(self):\n",
    "        \n",
    "        return f\"Hello! My name is {self.name}\"\n",
    "    \n",
    "    \n",
    "            "
   ]
  },
  {
   "cell_type": "code",
   "execution_count": 16,
   "metadata": {},
   "outputs": [],
   "source": [
    "player = Player(\"Rahul\", 100)"
   ]
  },
  {
   "cell_type": "code",
   "execution_count": 17,
   "metadata": {},
   "outputs": [
    {
     "name": "stdout",
     "output_type": "stream",
     "text": [
      "Hello! My name is Rahul\n"
     ]
    }
   ],
   "source": [
    "print(player)"
   ]
  },
  {
   "cell_type": "code",
   "execution_count": 18,
   "metadata": {},
   "outputs": [
    {
     "data": {
      "text/plain": [
       "10"
      ]
     },
     "execution_count": 18,
     "metadata": {},
     "output_type": "execute_result"
    }
   ],
   "source": [
    "player.lostMoney(10)"
   ]
  },
  {
   "cell_type": "code",
   "execution_count": 19,
   "metadata": {},
   "outputs": [
    {
     "data": {
      "text/plain": [
       "int"
      ]
     },
     "execution_count": 19,
     "metadata": {},
     "output_type": "execute_result"
    }
   ],
   "source": [
    "type(player.lostMoney(20))"
   ]
  },
  {
   "cell_type": "code",
   "execution_count": 20,
   "metadata": {},
   "outputs": [],
   "source": [
    "player.addCards(card)"
   ]
  },
  {
   "cell_type": "code",
   "execution_count": 21,
   "metadata": {},
   "outputs": [
    {
     "data": {
      "text/plain": [
       "1"
      ]
     },
     "execution_count": 21,
     "metadata": {},
     "output_type": "execute_result"
    }
   ],
   "source": [
    "len(player.all_cards)"
   ]
  },
  {
   "cell_type": "code",
   "execution_count": 22,
   "metadata": {},
   "outputs": [],
   "source": [
    "# computerDealer= Player(\"Computer Dealer\")\n",
    "\n",
    "# humanPlayer = Player(\"Rahul\", 100)\n",
    "\n",
    "# # new_deck = Deck()\n",
    "# # new_deck.shuffle()\n",
    "\n",
    "# # for x in range(2):\n",
    "# #     computerDealer.addCards(new_deck.remove_one())\n",
    "# #     humanPlayer.addCards(new_deck.remove_one())"
   ]
  },
  {
   "cell_type": "code",
   "execution_count": 25,
   "metadata": {},
   "outputs": [],
   "source": [
    "# len(computerDealer.all_cards)\n",
    "# humanPlayer.name"
   ]
  },
  {
   "cell_type": "code",
   "execution_count": 26,
   "metadata": {},
   "outputs": [],
   "source": [
    "# betmoney = int(input(\"money\"))\n",
    "# humanPlayer.lostMoney(betmoney)\n"
   ]
  },
  {
   "cell_type": "code",
   "execution_count": 27,
   "metadata": {},
   "outputs": [],
   "source": [
    "def add_card():\n",
    "    choice = 'wrong'\n",
    "    \n",
    "    while choice not in ['Yes','No']:\n",
    "        choice = input(\"Would you like to add one more card? choose Yes or No: \").capitalize()\n",
    "        \n",
    "        if choice not in ['Yes','No']:\n",
    "            clear_output()\n",
    "            print(\"Sorry! I didn't understand. Please make sure you choose 'Yes' or 'No': \")\n",
    "        \n",
    "        if choice ==\"Yes\":\n",
    "            return True\n",
    "        \n",
    "        else:\n",
    "            return False"
   ]
  },
  {
   "cell_type": "code",
   "execution_count": 29,
   "metadata": {},
   "outputs": [
    {
     "name": "stdout",
     "output_type": "stream",
     "text": [
      "How much money do you have100\n",
      "How much money do you want to bet: 100\n",
      "Ace of Diamonds\n",
      "first Card of computerdealer is Three of Hearts And \n",
      "Other card is unknown \n",
      "\n",
      "first Card of humanPlayer is Four of Hearts And \n",
      "Other card is Jack of Spades\n",
      "14\n",
      "Would you like to add one more card? choose Yes or No: yes\n",
      "Queen of Diamonds\n",
      "24\n",
      "humanPlayer lost the Game and the bust value is 24 \n",
      "computerDealer won the match \n",
      "\n",
      "you lost  100$\n",
      "would you like to play game again? choose 'YES' OR 'NO' rahul : yes\n",
      "How much money do you want to bet: 9\n",
      "You don't have much money\n"
     ]
    }
   ],
   "source": [
    "# computerDealer= Player(\"Computer Dealer\")\n",
    "player_money = int(input(\"How much money do you have\"))\n",
    "# humanPlayer = Player(\"Rahul\",player_money)\n",
    "# betmoney = int(input(\"How much money do you want to bet: \"))\n",
    "game_on = True\n",
    "while game_on:\n",
    "\n",
    "    computerDealer= Player(\"Computer Dealer\")\n",
    "    humanPlayer = Player(\"Rahul\",player_money)\n",
    "    \n",
    "    betmoney = int(input(\"How much money do you want to bet: \"))\n",
    "    if humanPlayer.applyingMoney(betmoney) == True:\n",
    "        new_deck = Deck()\n",
    "        new_deck.shuffle()\n",
    "        print(new_deck.all_cards[0])\n",
    "\n",
    "        for x in range(2):\n",
    "            computerDealer.addCards(new_deck.remove_one())\n",
    "            humanPlayer.addCards(new_deck.remove_one())\n",
    "        \n",
    "        print(f\"first Card of computerdealer is {computerDealer.all_cards[0]} And \\nOther card is unknown \\n\")\n",
    "        print(f\"first Card of humanPlayer is {humanPlayer.all_cards[0]} And \\nOther card is {humanPlayer.all_cards[1]}\")\n",
    "\n",
    "\n",
    "    #     first we code for the humanPlayer\n",
    "\n",
    "        if humanPlayer.all_cards[0].rank =='Ace' and humanPlayer.all_cards[1].rank=='Ace':\n",
    "            i=humanPlayer.all_cards[0].value[0]+humanPlayer.all_cards[1].value[1]\n",
    "            print(i)\n",
    "\n",
    "        elif humanPlayer.all_cards[0].rank=='Ace':         \n",
    "            i=humanPlayer.all_cards[0].value[1]+humanPlayer.all_cards[1].value\n",
    "            print(i)\n",
    "\n",
    "        elif humanPlayer.all_cards[1].rank=='Ace':        \n",
    "            i=humanPlayer.all_cards[1].value[1]+humanPlayer.all_cards[0].value\n",
    "            print(i)\n",
    "\n",
    "        else:\n",
    "            i=humanPlayer.all_cards[0].value+humanPlayer.all_cards[1].value\n",
    "            print(i)\n",
    "\n",
    "        if  add_card():\n",
    "            game = True\n",
    "            while game:  \n",
    "\n",
    "                humanPlayer.addCards(new_deck.remove_one())\n",
    "\n",
    "                if humanPlayer.all_cards[-1].rank==\"Ace\" and i<=10:\n",
    "                    j=humanPlayer.all_cards[-1].value[1]\n",
    "                elif humanPlayer.all_cards[-1].rank==\"Ace\" and i>10:\n",
    "                    j=humanPlayer.all_cards[-1].value[0]\n",
    "                else:\n",
    "                    j=humanPlayer.all_cards[-1].value\n",
    "\n",
    "                print(humanPlayer.all_cards[-1])\n",
    "                i=i+j\n",
    "                print(i)\n",
    "                if i>21:\n",
    "    #                 print(f\"humanPlayer lost the Game and the bust value is {i} \\ncomputerDealer won the match\")\n",
    "    #                 humanPlayer.lostMoney(betmoney)\n",
    "                    break;\n",
    "                else:\n",
    "                    print(f\"Total value after hit is {i}\")   \n",
    "                    choice = input(\"Would you like to add one more card? choose 'Yes' or 'No': \").capitalize()\n",
    "                    while choice not in ['Yes','No']:\n",
    "                        clear_output()\n",
    "                        choice = input(\"Please choose 'Yes' or 'NO': \").capitalize()\n",
    "                    if choice ==\"Yes\":\n",
    "                        game = True\n",
    "                    else:\n",
    "                        game = False\n",
    "\n",
    "        if i>21:\n",
    "            print(f\"humanPlayer lost the Game and the bust value is {i} \\ncomputerDealer won the match \\n\")\n",
    "            betmoney = humanPlayer.lostMoney(betmoney)\n",
    "            player_money-=betmoney\n",
    "            print(f'you lost  {betmoney}$')\n",
    "            choice = 'wrong'\n",
    "            while choice not in ['Yes','No']:\n",
    "    #             clear_output()\n",
    "                choice = input(\"would you like to play game again? choose 'YES' OR 'NO' rahul : \").capitalize()\n",
    "                while choice not in ['Yes', 'No']:\n",
    "                    choice = input(\"Please provide a currect word 'Yes' or 'No': \").capitalize()\n",
    "\n",
    "            if choice == \"Yes\":\n",
    "                continue;\n",
    "            else:\n",
    "                break\n",
    "\n",
    "    #     ################              And Now we write the code for dealer                                ##############\n",
    "\n",
    "        print(f\"first Card of computerdealer is {computerDealer.all_cards[1]}\")\n",
    "        print(\"\\n\")\n",
    "        print(\"Computer Dealer's Turn \\n\")\n",
    "\n",
    "        if computerDealer.all_cards[0].rank =='Ace' and computerDealer.all_cards[1].rank=='Ace':\n",
    "            x=computerDealer.all_cards[0].value[0]+computerDealer.all_cards[1].value[1]\n",
    "            print(x)\n",
    "\n",
    "        elif computerDealer.all_cards[0].rank=='Ace':         \n",
    "            x=computerDealer.all_cards[0].value[1]+computerDealer.all_cards[1].value\n",
    "            print(i)\n",
    "\n",
    "        elif computerDealer.all_cards[1].rank=='Ace':        \n",
    "            x=computerDealer.all_cards[1].value[1]+computerDealer.all_cards[0].value\n",
    "            print(x)\n",
    "\n",
    "        else:\n",
    "            x=computerDealer.all_cards[0].value+computerDealer.all_cards[1].value\n",
    "            print(x)\n",
    "\n",
    "        if  add_card():\n",
    "            game = True\n",
    "            while game:    \n",
    "                computerDealer.addCards(new_deck.remove_one())\n",
    "\n",
    "                if computerDealer.all_cards[-1].rank==\"Ace\" and i<=10:\n",
    "                    y=computerDealer.all_cards[-1].value[1]\n",
    "                elif computerDealer.all_cards[-1].rank==\"Ace\" and i>10 :\n",
    "                    y=computerDealer.all_cards[-1].value[0]\n",
    "                else:\n",
    "                    y=computerDealer.all_cards[-1].value\n",
    "\n",
    "                print(computerDealer.all_cards[-1])\n",
    "                x=x+y\n",
    "                if x>21:\n",
    "    #                 print(f\"computerDealer lost the Game and the bust value is {x} \\nHumanPlayer won the match\")\n",
    "    #                 humanPlayer.winMoney(betmoney)\n",
    "                    break;\n",
    "                else:\n",
    "                    print(f\"Total value after hit is {x}\")   \n",
    "                    choice = input(\"Would you like to add one more card? choose 'Yes' or 'No': \").capitalize()\n",
    "                    while choice not in ['Yes','No']:\n",
    "                        clear_output()\n",
    "                        choice = input(\"Please choose 'Yes' or 'NO': \").capitalize()\n",
    "                    if choice ==\"Yes\":\n",
    "                        game = True\n",
    "                    else:\n",
    "                        game = False\n",
    "\n",
    "        if x>21:\n",
    "            print(f\"computerDealer lost the Game and the bust value is {x} \\nHumanPlayer won the match\")\n",
    "            betmoney = humanPlayer.lostMoney(betmoney)\n",
    "            player_money+=betmoney\n",
    "            print(f'you won  {betmoney}$')\n",
    "            choice = 'wrong'\n",
    "            while choice not in ['Yes','No']:\n",
    "    #             clear_output()\n",
    "                choice = input(\"would you like to play game again? choose 'YES' OR 'NO' : \").capitalize()\n",
    "                while choice not in ['Yes', 'No']:\n",
    "                    choice = input(\"Please provide a currect word 'Yes' or 'No': \").capitalize()\n",
    "\n",
    "            if choice == \"Yes\":\n",
    "                continue;\n",
    "            else:\n",
    "                print(5)\n",
    "                break\n",
    "\n",
    "\n",
    "    #     Now we check who won the match\n",
    "\n",
    "        if i>x:\n",
    "            print(f\"human Player won the Match and\\nTotal value is {i}\")\n",
    "            betmoney = humanPlayer.winMoney(betmoney)\n",
    "            player_money+=betmoney\n",
    "            print(f' you won {betmoney}$ ')\n",
    "\n",
    "        elif x>i:\n",
    "            print(f\"computerDealer won the Match and\\nTotal value is {x}\")\n",
    "            betmoney = humanPlayer.lostMoney(betmoney)\n",
    "            print(f'you lost {betmoney}$ ')\n",
    "            player_money-=betmoney\n",
    "\n",
    "        else:\n",
    "            print(f\"Tie game {i}= {x}\")\n",
    "\n",
    "        choice = \"wrong\"\n",
    "        while choice not in ['Yes','No']:\n",
    "            choice = input(\"Would you like to play game again? Choose 'Yes' or 'No':  \").capitalize()\n",
    "            while choice not in ['Yes','No']:\n",
    "                clear_output()\n",
    "                choice = input(\"please choose correct option? 'Yes' or 'No': \").capitalize()\n",
    "\n",
    "            if choice == \"Yes\":\n",
    "                game_on = True\n",
    "\n",
    "            else:\n",
    "                print(\"Thank you For playing the game\")\n",
    "                game_on = False\n",
    "    else:\n",
    "        print(\"You don't have much money\")\n",
    "        break;"
   ]
  },
  {
   "cell_type": "code",
   "execution_count": null,
   "metadata": {},
   "outputs": [],
   "source": []
  },
  {
   "cell_type": "code",
   "execution_count": null,
   "metadata": {},
   "outputs": [],
   "source": []
  }
 ],
 "metadata": {
  "kernelspec": {
   "display_name": "Python 3",
   "language": "python",
   "name": "python3"
  },
  "language_info": {
   "codemirror_mode": {
    "name": "ipython",
    "version": 3
   },
   "file_extension": ".py",
   "mimetype": "text/x-python",
   "name": "python",
   "nbconvert_exporter": "python",
   "pygments_lexer": "ipython3",
   "version": "3.7.6"
  }
 },
 "nbformat": 4,
 "nbformat_minor": 4
}
